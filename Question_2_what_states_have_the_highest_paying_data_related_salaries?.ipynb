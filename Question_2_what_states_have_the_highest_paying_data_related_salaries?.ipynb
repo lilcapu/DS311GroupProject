{
 "cells": [
  {
   "cell_type": "code",
   "execution_count": null,
   "id": "6a089cd9",
   "metadata": {},
   "outputs": [],
   "source": [
    "import pandas as pd\n",
    "pd = pd.DataFrame(pd.read_excel(\"salary_data_states_corrected.xlsx\"))\n",
    "pd "
   ]
  }
 ],
 "metadata": {
  "kernelspec": {
   "display_name": "Python 3 (ipykernel)",
   "language": "python",
   "name": "python3"
  },
  "language_info": {
   "codemirror_mode": {
    "name": "ipython",
    "version": 3
   },
   "file_extension": ".py",
   "mimetype": "text/x-python",
   "name": "python",
   "nbconvert_exporter": "python",
   "pygments_lexer": "ipython3",
   "version": "3.9.7"
  }
 },
 "nbformat": 4,
 "nbformat_minor": 5
}
