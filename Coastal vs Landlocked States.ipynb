{
 "cells": [
  {
   "cell_type": "code",
   "execution_count": 1,
   "id": "677b5a6e",
   "metadata": {},
   "outputs": [],
   "source": [
    "import pandas as pd\n",
    "import numpy as np\n",
    "import matplotlib.pyplot as plt\n",
    "import seaborn as sns"
   ]
  },
  {
   "cell_type": "code",
   "execution_count": 2,
   "id": "e1661ecd",
   "metadata": {},
   "outputs": [],
   "source": [
    "states=pd.read_csv(\"salary_data_states.csv\")"
   ]
  },
  {
   "cell_type": "code",
   "execution_count": 3,
   "id": "20c1524a",
   "metadata": {},
   "outputs": [
    {
     "name": "stdout",
     "output_type": "stream",
     "text": [
      "Coastal states counts:\n",
      "127054\n",
      "Landlocked states counts:\n",
      "40224\n"
     ]
    }
   ],
   "source": [
    "coastal = 0\n",
    "landlock = 0\n",
    "# not including the Great Lake Region\n",
    "coastalstates = ['California', 'Oregon', 'Washington', 'Texas', 'Louisiana', 'Mississippi', 'Alabama', 'Florida', 'Georgia',\n",
    "                'South Carolina', 'North Carolina', 'Virginia', 'District of Columbia', 'Maryland', 'Delaware', 'New Jersey',\n",
    "                'New York', 'Connecticut', 'Rhode Island', 'Massachusetts', 'New Hamsphire', 'Maine']\n",
    "for num in states['WORK_STATE']:\n",
    "    if num in coastalstates:\n",
    "        coastal = 1 + coastal\n",
    "    else:\n",
    "        landlock = 1 + landlock\n",
    "print('Coastal states counts:', coastal, 'Landlocked states counts:', landlock, sep='\\n')\n"
   ]
  },
  {
   "cell_type": "code",
   "execution_count": 4,
   "id": "bdbc3bd5",
   "metadata": {},
   "outputs": [
    {
     "data": {
      "text/plain": [
       "Text(0, 0.5, 'Application Counts')"
      ]
     },
     "execution_count": 4,
     "metadata": {},
     "output_type": "execute_result"
    },
    {
     "data": {
      "image/png": "[encoded data removed]",
      "text/plain": [
       "<Figure size 432x288 with 1 Axes>"
      ]
     },
     "metadata": {
      "needs_background": "light"
     },
     "output_type": "display_data"
    }
   ],
   "source": [
    "x = ['Coastal States', 'Landlocked States']\n",
    "y = [coastal, landlock]\n",
    "fig, ax = plt.subplots()\n",
    "plt.bar(x,y)\n",
    "ax.set_ylabel('Application Counts')"
   ]
  },
  {
   "cell_type": "code",
   "execution_count": null,
   "id": "908f2788",
   "metadata": {},
   "outputs": [],
   "source": []
  }
 ],
 "metadata": {
  "kernelspec": {
   "display_name": "Python 3 (ipykernel)",
   "language": "python",
   "name": "python3"
  },
  "language_info": {
   "codemirror_mode": {
    "name": "ipython",
    "version": 3
   },
   "file_extension": ".py",
   "mimetype": "text/x-python",
   "name": "python",
   "nbconvert_exporter": "python",
   "pygments_lexer": "ipython3",
   "version": "3.9.7"
  }
 },
 "nbformat": 4,
 "nbformat_minor": 5
}
