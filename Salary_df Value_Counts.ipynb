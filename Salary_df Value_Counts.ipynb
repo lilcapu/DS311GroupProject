{
 "cells": [
  {
   "cell_type": "code",
   "execution_count": 4,
   "id": "c3fab366",
   "metadata": {},
   "outputs": [],
   "source": [
    "import pandas as pd\n",
    "import numpy as np\n",
    "import seaborn as sns\n",
    "import matplotlib.pyplot as plt\n",
    "%matplotlib inline"
   ]
  },
  {
   "cell_type": "code",
   "execution_count": 5,
   "id": "bc6fb0c7",
   "metadata": {},
   "outputs": [],
   "source": [
    "salaries_df=pd.read_csv(\"salary_data_states_corrected.csv\")"
   ]
  },
  {
   "cell_type": "code",
   "execution_count": 24,
   "id": "5770edb1",
   "metadata": {},
   "outputs": [
    {
     "name": "stdout",
     "output_type": "stream",
     "text": [
      "<class 'pandas.core.frame.DataFrame'>\n",
      "RangeIndex: 167278 entries, 0 to 167277\n",
      "Data columns (total 27 columns):\n",
      " #   Column                          Non-Null Count   Dtype  \n",
      "---  ------                          --------------   -----  \n",
      " 0   CASE_NUMBER                     167278 non-null  object \n",
      " 1   CASE_STATUS                     167278 non-null  object \n",
      " 2   CASE_RECEIVED_DATE              167278 non-null  object \n",
      " 3   DECISION_DATE                   167278 non-null  object \n",
      " 4   EMPLOYER_NAME                   167278 non-null  object \n",
      " 5   PREVAILING_WAGE_SUBMITTED       167278 non-null  float64\n",
      " 6   PREVAILING_WAGE_SUBMITTED_UNIT  167278 non-null  object \n",
      " 7   PAID_WAGE_SUBMITTED             167278 non-null  float64\n",
      " 8   PAID_WAGE_SUBMITTED_UNIT        167278 non-null  object \n",
      " 9   JOB_TITLE                       167278 non-null  object \n",
      " 10  WORK_CITY                       167275 non-null  object \n",
      " 11  EDUCATION_LEVEL_REQUIRED        11093 non-null   object \n",
      " 12  COLLEGE_MAJOR_REQUIRED          11051 non-null   object \n",
      " 13  EXPERIENCE_REQUIRED_Y_N         11093 non-null   object \n",
      " 14  EXPERIENCE_REQUIRED_NUM_MONTHS  4965 non-null    float64\n",
      " 15  COUNTRY_OF_CITIZENSHIP          11093 non-null   object \n",
      " 16  PREVAILING_WAGE_SOC_CODE        167278 non-null  object \n",
      " 17  PREVAILING_WAGE_SOC_TITLE       167278 non-null  object \n",
      " 18  WORK_STATE                      167278 non-null  object \n",
      " 19  WORK_STATE_ABBREVIATION         167278 non-null  object \n",
      " 20  WORK_POSTAL_CODE                53674 non-null   object \n",
      " 21  FULL_TIME_POSITION_Y_N          156185 non-null  object \n",
      " 22  VISA_CLASS                      167278 non-null  object \n",
      " 23  PREVAILING_WAGE_PER_YEAR        167210 non-null  float64\n",
      " 24  PAID_WAGE_PER_YEAR              167278 non-null  float64\n",
      " 25  JOB_TITLE_SUBGROUP              167278 non-null  object \n",
      " 26  order                           167278 non-null  int64  \n",
      "dtypes: float64(5), int64(1), object(21)\n",
      "memory usage: 34.5+ MB\n"
     ]
    }
   ],
   "source": [
    "salaries_df.info()"
   ]
  },
  {
   "cell_type": "code",
   "execution_count": 8,
   "id": "dccb31c2",
   "metadata": {},
   "outputs": [
    {
     "data": {
      "text/plain": [
       "certified              140031\n",
       "certified-withdrawn     14146\n",
       "withdrawn                5602\n",
       "denied                   4273\n",
       "certified-expired        3226\n",
       "Name: CASE_STATUS, dtype: int64"
      ]
     },
     "execution_count": 8,
     "metadata": {},
     "output_type": "execute_result"
    }
   ],
   "source": [
    "salaries_df[\"CASE_STATUS\"].value_counts()"
   ]
  },
  {
   "cell_type": "code",
   "execution_count": 11,
   "id": "a80a744c",
   "metadata": {},
   "outputs": [
    {
     "data": {
      "text/plain": [
       "GOOGLE INC.                                           6213\n",
       "FUJITSU AMERICA, INC.                                 1814\n",
       "INTEL CORPORATION                                     1781\n",
       "MICROSOFT CORPORATION                                 1364\n",
       "QUALCOMM TECHNOLOGIES, INC.                           1277\n",
       "                                                      ... \n",
       "SYSTEM LOGISTICS CORPORATION                             1\n",
       "OMAZE, INC.                                              1\n",
       "FRESENIUS HEALTH PARTNERS CARE SYSTEMS, INC., A FR       1\n",
       "BARNES GROUP INC.                                        1\n",
       "SACRED HEART SCHOOL                                      1\n",
       "Name: EMPLOYER_NAME, Length: 23773, dtype: int64"
      ]
     },
     "execution_count": 11,
     "metadata": {},
     "output_type": "execute_result"
    }
   ],
   "source": [
    "salaries_df[\"EMPLOYER_NAME\"].value_counts()"
   ]
  },
  {
   "cell_type": "code",
   "execution_count": 12,
   "id": "0da15a3a",
   "metadata": {},
   "outputs": [
    {
     "data": {
      "text/plain": [
       "year         158413\n",
       "hour           8500\n",
       "month           292\n",
       "week             59\n",
       "bi-weekly        14\n",
       "Name: PREVAILING_WAGE_SUBMITTED_UNIT, dtype: int64"
      ]
     },
     "execution_count": 12,
     "metadata": {},
     "output_type": "execute_result"
    }
   ],
   "source": [
    "salaries_df[\"PREVAILING_WAGE_SUBMITTED_UNIT\"].value_counts()"
   ]
  },
  {
   "cell_type": "code",
   "execution_count": 13,
   "id": "6b111cff",
   "metadata": {},
   "outputs": [
    {
     "data": {
      "text/plain": [
       "year         158428\n",
       "hour           8397\n",
       "month           358\n",
       "week             62\n",
       "bi-weekly        33\n",
       "Name: PAID_WAGE_SUBMITTED_UNIT, dtype: int64"
      ]
     },
     "execution_count": 13,
     "metadata": {},
     "output_type": "execute_result"
    }
   ],
   "source": [
    "salaries_df[\"PAID_WAGE_SUBMITTED_UNIT\"].value_counts()"
   ]
  },
  {
   "cell_type": "code",
   "execution_count": 14,
   "id": "3bc00a7c",
   "metadata": {},
   "outputs": [
    {
     "data": {
      "text/plain": [
       "SOFTWARE ENGINEER                                54478\n",
       "BUSINESS ANALYST                                 19516\n",
       "SENIOR SOFTWARE ENGINEER                         11714\n",
       "ASSISTANT PROFESSOR                              10134\n",
       "Software Engineer                                 3743\n",
       "                                                 ...  \n",
       "SENIOR SOFTWARE ENGINEER (PRODUCT SPECIALIST)        1\n",
       "SOFTWARE ENGINEER - SENIOR KERNEL GENERALIST         1\n",
       "SENIOR ORACLE APPS SOFTWARE ENGINEER                 1\n",
       "ASSISTANT PROFESSOR OF FINANACE                      1\n",
       "BILINGUAL SPECIAL EDUCATION TEACHER ASSISTANT        1\n",
       "Name: JOB_TITLE, Length: 12589, dtype: int64"
      ]
     },
     "execution_count": 14,
     "metadata": {},
     "output_type": "execute_result"
    }
   ],
   "source": [
    "salaries_df[\"JOB_TITLE\"].value_counts()"
   ]
  },
  {
   "cell_type": "code",
   "execution_count": 15,
   "id": "b99a1a5d",
   "metadata": {},
   "outputs": [
    {
     "data": {
      "text/plain": [
       "NEW YORK         6714\n",
       "MOUNTAIN VIEW    6712\n",
       "SAN FRANCISCO    6458\n",
       "SAN DIEGO        2983\n",
       "SAN JOSE         2925\n",
       "                 ... \n",
       "TUPELO              1\n",
       "Northfield          1\n",
       "Marianna            1\n",
       "San Anotnonio       1\n",
       "DEL RIO             1\n",
       "Name: WORK_CITY, Length: 4888, dtype: int64"
      ]
     },
     "execution_count": 15,
     "metadata": {},
     "output_type": "execute_result"
    }
   ],
   "source": [
    "salaries_df[\"WORK_CITY\"].value_counts()"
   ]
  },
  {
   "cell_type": "code",
   "execution_count": 16,
   "id": "4e95dc38",
   "metadata": {},
   "outputs": [
    {
     "data": {
      "text/plain": [
       "Master's       5550\n",
       "Bachelor's     3938\n",
       "Doctorate      1181\n",
       "Other           366\n",
       "None             30\n",
       "Associate's      21\n",
       "High School       7\n",
       "Name: EDUCATION_LEVEL_REQUIRED, dtype: int64"
      ]
     },
     "execution_count": 16,
     "metadata": {},
     "output_type": "execute_result"
    }
   ],
   "source": [
    "salaries_df[\"EDUCATION_LEVEL_REQUIRED\"].value_counts()"
   ]
  },
  {
   "cell_type": "code",
   "execution_count": 17,
   "id": "56e4ba3b",
   "metadata": {},
   "outputs": [
    {
     "data": {
      "text/plain": [
       "computer science                                                             1521\n",
       "computer science, computer engg., electrical engg., or related field          502\n",
       "any field                                                                     283\n",
       "electrical engineering, computer engineering, computer science or related     195\n",
       "education                                                                     158\n",
       "                                                                             ... \n",
       "physics or mathematics                                                          1\n",
       "management science                                                              1\n",
       "computer science,mathematics, soft. engineering                                 1\n",
       "computer science,mathematics,soft. engineering                                  1\n",
       "mass communications                                                             1\n",
       "Name: COLLEGE_MAJOR_REQUIRED, Length: 3261, dtype: int64"
      ]
     },
     "execution_count": 17,
     "metadata": {},
     "output_type": "execute_result"
    }
   ],
   "source": [
    "salaries_df[\"COLLEGE_MAJOR_REQUIRED\"].value_counts() #This column has alot of multivalues/duplicate data \n",
    "#including vague data's like Education or Anyfield"
   ]
  },
  {
   "cell_type": "code",
   "execution_count": 18,
   "id": "6a667b80",
   "metadata": {},
   "outputs": [
    {
     "data": {
      "text/plain": [
       "n    6139\n",
       "y    4954\n",
       "Name: EXPERIENCE_REQUIRED_Y_N, dtype: int64"
      ]
     },
     "execution_count": 18,
     "metadata": {},
     "output_type": "execute_result"
    }
   ],
   "source": [
    "salaries_df[\"EXPERIENCE_REQUIRED_Y_N\"].value_counts() #only 10,000 applicants said anything for this"
   ]
  },
  {
   "cell_type": "code",
   "execution_count": 19,
   "id": "4129aa9e",
   "metadata": {},
   "outputs": [
    {
     "data": {
      "text/plain": [
       "60.0     1604\n",
       "24.0     1105\n",
       "12.0      938\n",
       "36.0      561\n",
       "6.0       454\n",
       "48.0       78\n",
       "72.0       46\n",
       "84.0       39\n",
       "96.0       28\n",
       "3.0        20\n",
       "4.0        18\n",
       "1.0        15\n",
       "0.0        11\n",
       "18.0       11\n",
       "120.0       9\n",
       "9.0         9\n",
       "108.0       4\n",
       "2.0         3\n",
       "10.0        3\n",
       "33.0        2\n",
       "5.0         2\n",
       "16.0        1\n",
       "8.0         1\n",
       "144.0       1\n",
       "42.0        1\n",
       "30.0        1\n",
       "Name: EXPERIENCE_REQUIRED_NUM_MONTHS, dtype: int64"
      ]
     },
     "execution_count": 19,
     "metadata": {},
     "output_type": "execute_result"
    }
   ],
   "source": [
    "salaries_df[\"EXPERIENCE_REQUIRED_NUM_MONTHS\"].value_counts() "
   ]
  },
  {
   "cell_type": "code",
   "execution_count": 22,
   "id": "395f74a4",
   "metadata": {},
   "outputs": [
    {
     "data": {
      "text/plain": [
       "INDIA                    6587\n",
       "CHINA                    1101\n",
       "CANADA                    425\n",
       "PHILIPPINES               300\n",
       "SOUTH KOREA               269\n",
       "                         ... \n",
       "SERBIA AND MONTENEGRO       1\n",
       "ANTIGUA AND BARBUDA         1\n",
       "ICELAND                     1\n",
       "CYPRUS                      1\n",
       "PARAGUAY                    1\n",
       "Name: COUNTRY_OF_CITIZENSHIP, Length: 134, dtype: int64"
      ]
     },
     "execution_count": 22,
     "metadata": {},
     "output_type": "execute_result"
    }
   ],
   "source": [
    "salaries_df[\"COUNTRY_OF_CITIZENSHIP\"].value_counts() "
   ]
  },
  {
   "cell_type": "code",
   "execution_count": 25,
   "id": "7d849465",
   "metadata": {},
   "outputs": [
    {
     "data": {
      "text/plain": [
       "y    152594\n",
       "n      3591\n",
       "Name: FULL_TIME_POSITION_Y_N, dtype: int64"
      ]
     },
     "execution_count": 25,
     "metadata": {},
     "output_type": "execute_result"
    }
   ],
   "source": [
    "salaries_df[\"FULL_TIME_POSITION_Y_N\"].value_counts() "
   ]
  },
  {
   "cell_type": "code",
   "execution_count": 26,
   "id": "84ce2989",
   "metadata": {},
   "outputs": [
    {
     "data": {
      "text/plain": [
       "software engineer        99364\n",
       "business analyst         27811\n",
       "assistant professor      18866\n",
       "teacher                  13912\n",
       "data analyst              3840\n",
       "attorney                  1488\n",
       "data scientist            1227\n",
       "management consultant      770\n",
       "Name: JOB_TITLE_SUBGROUP, dtype: int64"
      ]
     },
     "execution_count": 26,
     "metadata": {},
     "output_type": "execute_result"
    }
   ],
   "source": [
    "salaries_df[\"JOB_TITLE_SUBGROUP\"].value_counts() #This has the simplified titles in full"
   ]
  },
  {
   "cell_type": "code",
   "execution_count": 28,
   "id": "49ad625e",
   "metadata": {},
   "outputs": [
    {
     "data": {
      "text/plain": [
       "H-1B               154497\n",
       "greencard           11093\n",
       "E-3 Australian       1393\n",
       "H-1B1 Singapore       148\n",
       "H-1B1 Chile           147\n",
       "Name: VISA_CLASS, dtype: int64"
      ]
     },
     "execution_count": 28,
     "metadata": {},
     "output_type": "execute_result"
    }
   ],
   "source": [
    "salaries_df[\"VISA_CLASS\"].value_counts() #Differen't Visa's"
   ]
  },
  {
   "cell_type": "code",
   "execution_count": null,
   "id": "a94fbf1b",
   "metadata": {},
   "outputs": [],
   "source": []
  }
 ],
 "metadata": {
  "kernelspec": {
   "display_name": "Python 3 (ipykernel)",
   "language": "python",
   "name": "python3"
  },
  "language_info": {
   "codemirror_mode": {
    "name": "ipython",
    "version": 3
   },
   "file_extension": ".py",
   "mimetype": "text/x-python",
   "name": "python",
   "nbconvert_exporter": "python",
   "pygments_lexer": "ipython3",
   "version": "3.9.7"
  }
 },
 "nbformat": 4,
 "nbformat_minor": 5
}
